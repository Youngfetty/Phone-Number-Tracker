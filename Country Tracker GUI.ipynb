{
 "cells": [
  {
   "cell_type": "code",
   "execution_count": 5,
   "metadata": {},
   "outputs": [],
   "source": [
    "import json\n",
    "import pycountry\n",
    "from tkinter import Tk, Label, Button, Entry\n",
    "from phone_iso3166.country import phone_country"
   ]
  },
  {
   "cell_type": "code",
   "execution_count": 6,
   "metadata": {},
   "outputs": [],
   "source": [
    "class Location_Tracker:\n",
    "    def __init__(self, App):\n",
    "        self.window = App\n",
    "        self.window.title(\"Phone number Tracker app\")\n",
    "        self.window.geometry(\"500x400\")\n",
    "        self.window.configure(bg=\"#3f5efb\")\n",
    "        self.window.resizable(False, False)\n",
    "        #___________Application menu_____________\n",
    "        Label(App, text=\"Enter a phone number\",fg=\"white\", font=(\"Times\", 20), bg=\"#3f5efb\").place(x=150,y= 30)\n",
    "        self.phone_number = Entry(App, width=16, font=(\"Arial\", 15), relief=\"flat\")\n",
    "        self.track_button = Button(App, text=\"Track Country\", bg=\"#22c1c3\", relief=\"sunken\")\n",
    "        self.country_label = Label(App,fg=\"white\", font=(\"Times\", 20), bg=\"#3f5efb\")\n",
    "        #___________Place widgets on the window______\n",
    "        self.phone_number.place(x=170, y=120)\n",
    "        self.track_button.place(x=200, y=200)\n",
    "        self.country_label.place(x=100, y=280)\n",
    "        #__________Linking button with countries ________\n",
    "        self.track_button.bind(\"<Button-1>\", self.Track_location)"
   ]
  },
  {
   "cell_type": "code",
   "execution_count": 9,
   "metadata": {},
   "outputs": [
    {
     "ename": "AttributeError",
     "evalue": "'Location_Tracker' object has no attribute 'Track_location'",
     "output_type": "error",
     "traceback": [
      "\u001b[1;31m---------------------------------------------------------------------------\u001b[0m",
      "\u001b[1;31mAttributeError\u001b[0m                            Traceback (most recent call last)",
      "\u001b[1;32m~\\AppData\\Local\\Temp\\ipykernel_4436\\972559419.py\u001b[0m in \u001b[0;36m<module>\u001b[1;34m\u001b[0m\n\u001b[0;32m      9\u001b[0m         \u001b[0mself\u001b[0m\u001b[1;33m.\u001b[0m\u001b[0mcountry_label\u001b[0m\u001b[1;33m.\u001b[0m\u001b[0mconfigure\u001b[0m\u001b[1;33m(\u001b[0m\u001b[0mtext\u001b[0m\u001b[1;33m=\u001b[0m\u001b[0mcountry\u001b[0m\u001b[1;33m)\u001b[0m\u001b[1;33m\u001b[0m\u001b[1;33m\u001b[0m\u001b[0m\n\u001b[0;32m     10\u001b[0m \u001b[0mPhoneTracker\u001b[0m \u001b[1;33m=\u001b[0m \u001b[0mTk\u001b[0m\u001b[1;33m(\u001b[0m\u001b[1;33m)\u001b[0m\u001b[1;33m\u001b[0m\u001b[1;33m\u001b[0m\u001b[0m\n\u001b[1;32m---> 11\u001b[1;33m \u001b[0mMyApp\u001b[0m \u001b[1;33m=\u001b[0m \u001b[0mLocation_Tracker\u001b[0m\u001b[1;33m(\u001b[0m\u001b[0mPhoneTracker\u001b[0m\u001b[1;33m)\u001b[0m\u001b[1;33m\u001b[0m\u001b[1;33m\u001b[0m\u001b[0m\n\u001b[0m\u001b[0;32m     12\u001b[0m \u001b[0mPhoneTracker\u001b[0m\u001b[1;33m.\u001b[0m\u001b[0mmainloop\u001b[0m\u001b[1;33m(\u001b[0m\u001b[1;33m)\u001b[0m\u001b[1;33m\u001b[0m\u001b[1;33m\u001b[0m\u001b[0m\n",
      "\u001b[1;32m~\\AppData\\Local\\Temp\\ipykernel_4436\\564875305.py\u001b[0m in \u001b[0;36m__init__\u001b[1;34m(self, App)\u001b[0m\n\u001b[0;32m     16\u001b[0m         \u001b[0mself\u001b[0m\u001b[1;33m.\u001b[0m\u001b[0mcountry_label\u001b[0m\u001b[1;33m.\u001b[0m\u001b[0mplace\u001b[0m\u001b[1;33m(\u001b[0m\u001b[0mx\u001b[0m\u001b[1;33m=\u001b[0m\u001b[1;36m100\u001b[0m\u001b[1;33m,\u001b[0m \u001b[0my\u001b[0m\u001b[1;33m=\u001b[0m\u001b[1;36m280\u001b[0m\u001b[1;33m)\u001b[0m\u001b[1;33m\u001b[0m\u001b[1;33m\u001b[0m\u001b[0m\n\u001b[0;32m     17\u001b[0m         \u001b[1;31m#__________Linking button with countries ________\u001b[0m\u001b[1;33m\u001b[0m\u001b[1;33m\u001b[0m\u001b[0m\n\u001b[1;32m---> 18\u001b[1;33m         \u001b[0mself\u001b[0m\u001b[1;33m.\u001b[0m\u001b[0mtrack_button\u001b[0m\u001b[1;33m.\u001b[0m\u001b[0mbind\u001b[0m\u001b[1;33m(\u001b[0m\u001b[1;34m\"<Button-1>\"\u001b[0m\u001b[1;33m,\u001b[0m \u001b[0mself\u001b[0m\u001b[1;33m.\u001b[0m\u001b[0mTrack_location\u001b[0m\u001b[1;33m)\u001b[0m\u001b[1;33m\u001b[0m\u001b[1;33m\u001b[0m\u001b[0m\n\u001b[0m",
      "\u001b[1;31mAttributeError\u001b[0m: 'Location_Tracker' object has no attribute 'Track_location'"
     ]
    }
   ],
   "source": [
    "def Track_location(self,event):\n",
    "        phone_number = self.phone_number.get()\n",
    "        country = \"Country is Unknown\"\n",
    "        if phone_number:\n",
    "            tracked = pycountry.countries.get(alpha_2=phone_country(phone_number))\n",
    "            print(tracked)\n",
    "            if tracked:\n",
    "                country = tracked.official_name\n",
    "        self.country_label.configure(text=country)\n",
    "PhoneTracker = Tk()\n",
    "MyApp = Location_Tracker(PhoneTracker)\n",
    "PhoneTracker.mainloop()"
   ]
  },
  {
   "cell_type": "code",
   "execution_count": null,
   "metadata": {},
   "outputs": [],
   "source": []
  },
  {
   "cell_type": "code",
   "execution_count": null,
   "metadata": {},
   "outputs": [],
   "source": []
  }
 ],
 "metadata": {
  "kernelspec": {
   "display_name": "Python 3.9.7 ('base')",
   "language": "python",
   "name": "python3"
  },
  "language_info": {
   "codemirror_mode": {
    "name": "ipython",
    "version": 3
   },
   "file_extension": ".py",
   "mimetype": "text/x-python",
   "name": "python",
   "nbconvert_exporter": "python",
   "pygments_lexer": "ipython3",
   "version": "3.9.7"
  },
  "orig_nbformat": 4,
  "vscode": {
   "interpreter": {
    "hash": "941828f812f7153ce2211fd05b46bf50b1ecc2afdc6081ae5769ae1d0f82f368"
   }
  }
 },
 "nbformat": 4,
 "nbformat_minor": 2
}
